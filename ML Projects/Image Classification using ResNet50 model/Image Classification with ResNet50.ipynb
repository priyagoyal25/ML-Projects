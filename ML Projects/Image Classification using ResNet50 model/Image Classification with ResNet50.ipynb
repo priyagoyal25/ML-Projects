{
 "cells": [
  {
   "cell_type": "markdown",
   "id": "9cb6584d",
   "metadata": {},
   "source": [
    "# Image Classification with ResNet50\n",
    "\n",
    "This Python script demonstrates how to perform image classification using a pre-trained ResNet50 model. The script loads the ResNet50 model, fine-tunes it on a custom dataset of image classes, and then uses it to classify a given input image. Below are the steps to use this script:\n",
    "\n",
    "## How to Use\n",
    "\n",
    "1. **Install Required Libraries:**\n",
    "   Before running the script, make sure you have the necessary libraries installed. You can install them using the following commands:\n",
    "\n",
    "   ```bash\n",
    "   pip install tensorflow\n",
    "   pip install pillow\n",
    "   ```\n",
    "\n",
    "2. **Directory Structure:**\n",
    "   - Ensure that you have a directory containing training images organized into subdirectories for each class. In the script, the `train_dir` variable should point to the directory containing your training data.\n",
    "   - The `classes` list should contain the names of the classes corresponding to the subdirectories.\n",
    "\n",
    "3. **Load Pre-trained ResNet50 Model:**\n",
    "   - The script loads the pre-trained ResNet50 model (excluding the top classification layer).\n",
    "   - It then adds custom classification layers on top of the base model.\n",
    "\n",
    "4. **Compile the Model:**\n",
    "   - The model is compiled with an optimizer, loss function, and metrics for training.\n",
    "\n",
    "5. **Load and Preprocess Data:**\n",
    "   - The script loads and preprocesses the training data from the specified directory.\n",
    "   - Images are resized to 224x224 pixels and preprocessed according to the ResNet50 requirements.\n",
    "\n",
    "6. **Train the Model:**\n",
    "   - The model is trained on the preprocessed training data for a specified number of epochs.\n",
    "\n",
    "7. **Classify Input Image:**\n",
    "   - You can specify the path to an input image using the `input_image_path` variable.\n",
    "   - The script loads and preprocesses the input image, and then uses the trained model to predict the class of the input image.\n",
    "\n",
    "8. **View the Prediction:**\n",
    "   - The script prints the predicted class label for the input image.\n",
    "\n",
    "## Dependencies\n",
    "\n",
    "This script relies on the following Python libraries:\n",
    "\n",
    "- `os`: Used for directory and file operations.\n",
    "- `numpy`: For numerical operations.\n",
    "- `tensorflow`: TensorFlow library for machine learning.\n",
    "- `tensorflow.keras`: The Keras API within TensorFlow for building and training deep learning models.\n",
    "- `PIL`: Python Imaging Library for image processing.\n",
    "\n",
    "Feel free to modify and extend the script to suit your specific image classification needs or integrate it into a larger machine learning pipeline."
   ]
  },
  {
   "cell_type": "code",
   "execution_count": 1,
   "id": "a4a30ed2",
   "metadata": {},
   "outputs": [
    {
     "name": "stdout",
     "output_type": "stream",
     "text": [
      "Epoch 1/10\n",
      "1/1 [==============================] - 12s 12s/step - loss: 1.3693 - accuracy: 0.4286\n",
      "Epoch 2/10\n",
      "1/1 [==============================] - 6s 6s/step - loss: 0.1465 - accuracy: 0.9524\n",
      "Epoch 3/10\n",
      "1/1 [==============================] - 6s 6s/step - loss: 0.0063 - accuracy: 1.0000\n",
      "Epoch 4/10\n",
      "1/1 [==============================] - 5s 5s/step - loss: 6.7202e-04 - accuracy: 1.0000\n",
      "Epoch 5/10\n",
      "1/1 [==============================] - 5s 5s/step - loss: 1.7978e-04 - accuracy: 1.0000\n",
      "Epoch 6/10\n",
      "1/1 [==============================] - 6s 6s/step - loss: 6.9273e-05 - accuracy: 1.0000\n",
      "Epoch 7/10\n",
      "1/1 [==============================] - 5s 5s/step - loss: 3.2220e-05 - accuracy: 1.0000\n",
      "Epoch 8/10\n",
      "1/1 [==============================] - 6s 6s/step - loss: 1.6994e-05 - accuracy: 1.0000\n",
      "Epoch 9/10\n",
      "1/1 [==============================] - 6s 6s/step - loss: 9.6667e-06 - accuracy: 1.0000\n",
      "Epoch 10/10\n",
      "1/1 [==============================] - 6s 6s/step - loss: 5.9091e-06 - accuracy: 1.0000\n"
     ]
    }
   ],
   "source": [
    "import os\n",
    "import numpy as np\n",
    "import tensorflow as tf\n",
    "from tensorflow.keras.applications import ResNet50\n",
    "from tensorflow.keras.preprocessing import image\n",
    "from tensorflow.keras.applications.resnet50 import preprocess_input, decode_predictions\n",
    "from PIL import Image\n",
    "\n",
    "# Directory containing training images\n",
    "train_dir = 'Priya_Goyal/'\n",
    "\n",
    "# List of image classes\n",
    "classes = ['cat','dog','chair','rose']\n",
    "\n",
    "# Load pre-trained ResNet50 model (excluding top classification layer)\n",
    "base_model = ResNet50(weights='imagenet', include_top=False, input_shape=(224, 224, 3))\n",
    "\n",
    "# Freeze base model layers\n",
    "for layer in base_model.layers:\n",
    "    layer.trainable = False\n",
    "\n",
    "# Add custom classification layers on top\n",
    "x = base_model.output\n",
    "x = tf.keras.layers.GlobalAveragePooling2D()(x)\n",
    "x = tf.keras.layers.Dense(512, activation='relu')(x)\n",
    "predictions = tf.keras.layers.Dense(len(classes), activation='softmax')(x)\n",
    "\n",
    "# Create the final model\n",
    "model = tf.keras.models.Model(inputs=base_model.input, outputs=predictions)\n",
    "\n",
    "# Compile the model\n",
    "model.compile(optimizer='adam',\n",
    "              loss='sparse_categorical_crossentropy',\n",
    "              metrics=['accuracy'])\n",
    "\n",
    "# Load and preprocess data\n",
    "X_train = []\n",
    "y_train = []\n",
    "\n",
    "for idx, class_name in enumerate(classes):\n",
    "    class_dir = os.path.join(train_dir, class_name)\n",
    "    for img_name in os.listdir(class_dir):\n",
    "        img_path = os.path.join(class_dir, img_name)\n",
    "        if img_name.lower().endswith(('.png', '.jpg', '.jpeg', '.gif')):\n",
    "            img = image.load_img(img_path, target_size=(224, 224))\n",
    "            img_array = image.img_to_array(img)\n",
    "            img_array = np.expand_dims(img_array, axis=0)\n",
    "            img_array = preprocess_input(img_array)\n",
    "            X_train.append(img_array)\n",
    "            y_train.append(idx)\n",
    "\n",
    "X_train = np.vstack(X_train)\n",
    "y_train = np.array(y_train)\n",
    "\n",
    "# Train the model\n",
    "model.fit(X_train, y_train, epochs=10)\n",
    "\n",
    "def prediction(input_image_path):\n",
    "    # Input image to classify\n",
    "    input_image = image.load_img(input_image_path, target_size=(224, 224))\n",
    "    input_image_array = image.img_to_array(input_image)\n",
    "    input_image_array = np.expand_dims(input_image_array, axis=0)\n",
    "    input_image_array = preprocess_input(input_image_array)\n",
    "\n",
    "    # Classify the input image\n",
    "    predictions = model.predict(input_image_array)\n",
    "    predicted_class_idx = np.argmax(predictions)\n",
    "    predicted_class = classes[predicted_class_idx]\n",
    "    print(\"Predicted class:\", predicted_class)\n",
    "    \n",
    "    \n"
   ]
  },
  {
   "cell_type": "code",
   "execution_count": 2,
   "id": "bd59e86e",
   "metadata": {},
   "outputs": [
    {
     "name": "stdout",
     "output_type": "stream",
     "text": [
      "1/1 [==============================] - 2s 2s/step\n",
      "Predicted class: cat\n"
     ]
    }
   ],
   "source": [
    "# Testing model\n",
    "input_image_path = \"cat6.jpg\"\n",
    "prediction(input_image_path)"
   ]
  },
  {
   "cell_type": "code",
   "execution_count": 3,
   "id": "cee760da",
   "metadata": {},
   "outputs": [
    {
     "name": "stdout",
     "output_type": "stream",
     "text": [
      "1/1 [==============================] - 1s 517ms/step\n",
      "Predicted class: rose\n"
     ]
    }
   ],
   "source": [
    "# Testing model\n",
    "input_image_path = \"rose7.jpeg\"\n",
    "prediction(input_image_path)"
   ]
  },
  {
   "cell_type": "code",
   "execution_count": 4,
   "id": "f037b499",
   "metadata": {},
   "outputs": [
    {
     "name": "stdout",
     "output_type": "stream",
     "text": [
      "1/1 [==============================] - 0s 377ms/step\n",
      "Predicted class: dog\n"
     ]
    }
   ],
   "source": [
    "# Testing model\n",
    "input_image_path = \"dog6.jpeg\"\n",
    "prediction(input_image_path)"
   ]
  },
  {
   "cell_type": "code",
   "execution_count": 7,
   "id": "2d62e0a2",
   "metadata": {},
   "outputs": [
    {
     "name": "stdout",
     "output_type": "stream",
     "text": [
      "1/1 [==============================] - 0s 435ms/step\n",
      "Predicted class: chair\n"
     ]
    }
   ],
   "source": [
    "# Testing model\n",
    "input_image_path = \"chair7.jpg\"\n",
    "prediction(input_image_path)"
   ]
  },
  {
   "cell_type": "code",
   "execution_count": null,
   "id": "06acd23f",
   "metadata": {},
   "outputs": [],
   "source": []
  }
 ],
 "metadata": {
  "kernelspec": {
   "display_name": "Python 3 (ipykernel)",
   "language": "python",
   "name": "python3"
  },
  "language_info": {
   "codemirror_mode": {
    "name": "ipython",
    "version": 3
   },
   "file_extension": ".py",
   "mimetype": "text/x-python",
   "name": "python",
   "nbconvert_exporter": "python",
   "pygments_lexer": "ipython3",
   "version": "3.11.3"
  }
 },
 "nbformat": 4,
 "nbformat_minor": 5
}
